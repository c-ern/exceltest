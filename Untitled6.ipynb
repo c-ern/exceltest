{
 "cells": [
  {
   "cell_type": "code",
   "execution_count": 1,
   "metadata": {
    "collapsed": false
   },
   "outputs": [
    {
     "name": "stdout",
     "output_type": "stream",
     "text": [
      "2017-06-18 00:00:00\n",
      "['83002', '38816', '38945', '38947', '38966', '38983', '71231', '38908', '38002', '38000', '38812', '38823', '38875', '38896', '38893', '38906', '71229']\n",
      "dict_keys(['83002', '38816', '38945', '38947', '38966', '38983', '71231', '38908', '38002', '38000', '38812', '38823', '38875', '38896', '38893', '38906', '71229'])\n",
      "2017-01-01 00:00:00\n",
      "2017-01-31 00:00:00\n",
      "Alle Sheets\n",
      "83002\n",
      "------------------\n",
      "Alle Sheets\n",
      "38816\n",
      "------------------\n",
      "Alle Sheets\n",
      "38945\n",
      "------------------\n",
      "Alle Sheets\n",
      "38947\n",
      "------------------\n",
      "Folgendes hat 2017-06-18 00:00:00 im Index:\n",
      "38947\n",
      "38947\n",
      "DatetimeIndex(['2015-09-27', '2015-10-04', '2015-10-11', '2015-10-18',\n",
      "               '2015-10-25', '2015-11-01', '2015-11-08', '2015-11-15',\n",
      "               '2015-11-22', '2015-11-29', '2015-12-06', '2015-12-13',\n",
      "               '2015-12-20', '2015-12-27', '2016-01-03', '2016-01-10',\n",
      "               '2016-01-17', '2016-01-24', '2016-01-31', '2016-02-07',\n",
      "               '2016-02-14', '2016-02-21', '2016-02-28', '2016-03-06',\n",
      "               '2016-03-13', '2016-03-20', '2016-03-27', '2016-04-03',\n",
      "               '2016-04-10', '2016-04-17', '2016-04-24', '2016-05-01',\n",
      "               '2016-05-08', '2016-05-15', '2016-05-22', '2016-05-29',\n",
      "               '2016-06-05', '2016-06-12', '2016-06-19', '2016-06-26',\n",
      "               '2016-07-03', '2016-07-10', '2016-07-17', '2016-07-24',\n",
      "               '2016-07-31', '2016-08-07', '2016-08-14', '2016-08-21',\n",
      "               '2016-08-28', '2016-09-04', '2016-09-11', '2016-09-18',\n",
      "               '2016-09-25', '2016-10-02', '2016-10-09', '2016-10-16',\n",
      "               '2016-10-23', '2016-10-30', '2016-11-06', '2016-11-13',\n",
      "               '2016-11-20', '2016-11-27', '2016-12-04', '2016-12-11',\n",
      "               '2016-12-18', '2016-12-25', '2017-01-01', '2017-01-08',\n",
      "               '2017-01-15', '2017-01-22', '2017-01-29', '2017-02-05',\n",
      "               '2017-02-12', '2017-02-19', '2017-02-26', '2017-03-05',\n",
      "               '2017-03-12', '2017-03-19', '2017-03-26', '2017-04-02',\n",
      "               '2017-04-09', '2017-04-16', '2017-04-23', '2017-04-30',\n",
      "               '2017-05-07', '2017-05-14', '2017-05-21', '2017-05-28',\n",
      "               '2017-06-04', '2017-06-11', '2017-06-18'],\n",
      "              dtype='datetime64[ns]', name='Datum:', freq='W-SUN')\n",
      "\n",
      "Aus-schuss in %    0.147188\n",
      "Nacharbeit              NaN\n",
      "Name: 2017-06-18 00:00:00, dtype: float64\n",
      "\n",
      "Alle Sheets\n",
      "38966\n",
      "------------------\n",
      "Alle Sheets\n",
      "38983\n",
      "------------------\n",
      "Folgendes hat 2017-06-18 00:00:00 im Index:\n",
      "38983\n",
      "38983\n",
      "DatetimeIndex(['2015-10-04', '2015-10-11', '2015-10-18', '2015-10-25',\n",
      "               '2015-11-01', '2015-11-08', '2015-11-15', '2015-11-22',\n",
      "               '2015-11-29', '2015-12-06', '2015-12-13', '2015-12-20',\n",
      "               '2015-12-27', '2016-01-03', '2016-01-10', '2016-01-17',\n",
      "               '2016-01-24', '2016-01-31', '2016-02-07', '2016-02-14',\n",
      "               '2016-02-21', '2016-02-28', '2016-03-06', '2016-03-13',\n",
      "               '2016-03-20', '2016-03-27', '2016-04-03', '2016-04-10',\n",
      "               '2016-04-17', '2016-04-24', '2016-05-01', '2016-05-08',\n",
      "               '2016-05-15', '2016-05-22', '2016-05-29', '2016-06-05',\n",
      "               '2016-06-12', '2016-06-19', '2016-06-26', '2016-07-03',\n",
      "               '2016-07-10', '2016-07-17', '2016-07-24', '2016-07-31',\n",
      "               '2016-08-07', '2016-08-14', '2016-08-21', '2016-08-28',\n",
      "               '2016-09-04', '2016-09-11', '2016-09-18', '2016-09-25',\n",
      "               '2016-10-02', '2016-10-09', '2016-10-16', '2016-10-23',\n",
      "               '2016-10-30', '2016-11-06', '2016-11-13', '2016-11-20',\n",
      "               '2016-11-27', '2016-12-04', '2016-12-11', '2016-12-18',\n",
      "               '2016-12-25', '2017-01-01', '2017-01-08', '2017-01-15',\n",
      "               '2017-01-22', '2017-01-29', '2017-02-05', '2017-02-12',\n",
      "               '2017-02-19', '2017-02-26', '2017-03-05', '2017-03-12',\n",
      "               '2017-03-19', '2017-03-26', '2017-04-02', '2017-04-09',\n",
      "               '2017-04-16', '2017-04-23', '2017-04-30', '2017-05-07',\n",
      "               '2017-05-14', '2017-05-21', '2017-05-28', '2017-06-04',\n",
      "               '2017-06-11', '2017-06-18'],\n",
      "              dtype='datetime64[ns]', name='Datum:', freq='W-SUN')\n",
      "\n",
      "Summe i.O. [Stück]        2740\n",
      "Summe\\nn.i.O.\\n[Stück]      80\n",
      "Name: 2017-06-18 00:00:00, dtype: int64\n",
      "\n",
      "Alle Sheets\n",
      "71231\n",
      "------------------\n",
      "Folgendes hat 2017-06-18 00:00:00 im Index:\n",
      "71231\n",
      "Alle Sheets\n",
      "38908\n",
      "------------------\n",
      "Alle Sheets\n",
      "38002\n",
      "------------------\n",
      "Alle Sheets\n",
      "38000\n",
      "------------------\n",
      "Alle Sheets\n",
      "38812\n",
      "------------------\n",
      "Alle Sheets\n",
      "38823\n",
      "------------------\n",
      "Alle Sheets\n",
      "38875\n",
      "------------------\n",
      "Alle Sheets\n",
      "38896\n",
      "------------------\n",
      "Alle Sheets\n",
      "38893\n",
      "------------------\n",
      "Alle Sheets\n",
      "38906\n",
      "------------------\n",
      "Alle Sheets\n",
      "71229\n",
      "------------------\n"
     ]
    }
   ],
   "source": [
    "import pandas as pd\n",
    "import datetime\n",
    "import matplotlib.pyplot as plt\n",
    "\n",
    "d = \"2017-W24\"\n",
    "r = datetime.datetime.strptime(d + '-0', \"%Y-W%W-%w\")\n",
    "print(r)\n",
    "# df['71231'].loc[r]\n",
    "# https://stackoverflow.com/questions/17087314/get-date-from-week-number\n",
    "\n",
    "fsk = pd.ExcelFile(\"Fehlerkennkarte extern NEU.xls\")\n",
    "print(fsk.sheet_names)\n",
    "\n",
    "df = {sheet_name: fsk.parse(sheet_name) for sheet_name in fsk.sheet_names}\n",
    "\n",
    "print(df.keys())\n",
    "\n",
    "datum = '2017-01'\n",
    "datum1 = pd.Timestamp('2017-01-01')\n",
    "datum2 = pd.Timestamp('2017-01-31')\n",
    "print(datum1)\n",
    "print(datum2)\n",
    "\n",
    "for sheets in df:\n",
    "    # print(df[sheets].head())\n",
    "    df[sheets] = df[sheets].dropna(subset=['Unnamed: 0'])\n",
    "    df[sheets].columns = df[sheets].iloc[0]\n",
    "    df[sheets] = df[sheets].drop(df[sheets].index[0])\n",
    "    df[sheets]['Datum:'] = pd.to_datetime(df[sheets]['Datum:'], format='%Y-%m-%d %H:%M:%S', errors='coerce')\n",
    "    df[sheets] = df[sheets].set_index('Datum:').groupby(pd.TimeGrouper('W')).sum()\n",
    "    df[sheets].columns.name = None\n",
    "\n",
    "    summe_io = df[sheets].columns[21]\n",
    "    summe_nio = df[sheets].columns[19]\n",
    "    spalten = [summe_io, summe_nio]\n",
    "    print(\"Alle Sheets\")\n",
    "    print(sheets)\n",
    "    print('------------------')\n",
    "    # print(df[sheets][spalten].loc[datum])\n",
    "    # print(df[sheets][spalten])\n",
    "    if r in df[sheets].index:\n",
    "        print(\"Folgendes hat \"+str(r)+\" im Index:\")\n",
    "        print(sheets)\n",
    "        if df[sheets][summe_io].loc[r].sum() > 0:\n",
    "            print(sheets)\n",
    "            print(df[sheets].index)\n",
    "            print(\"\")\n",
    "            print(df[sheets][spalten].loc[r])\n",
    "            print(\"\")"
   ]
  },
  {
   "cell_type": "code",
   "execution_count": 2,
   "metadata": {
    "collapsed": false
   },
   "outputs": [
    {
     "data": {
      "text/plain": [
       "4330"
      ]
     },
     "execution_count": 2,
     "metadata": {},
     "output_type": "execute_result"
    }
   ],
   "source": [
    "df['71231'][summe_io].loc[r].sum()"
   ]
  },
  {
   "cell_type": "code",
   "execution_count": 3,
   "metadata": {
    "collapsed": false
   },
   "outputs": [
    {
     "data": {
      "text/plain": [
       "True"
      ]
     },
     "execution_count": 3,
     "metadata": {},
     "output_type": "execute_result"
    }
   ],
   "source": [
    "df['71231'][summe_io].loc[r].sum() > 0"
   ]
  },
  {
   "cell_type": "code",
   "execution_count": 5,
   "metadata": {
    "collapsed": false
   },
   "outputs": [
    {
     "data": {
      "text/plain": [
       "Index(['LS / WE- Nummer:', 'Prüfauftrags-nummer:', 'Gesamt-stückzahl:',\n",
       "       'Beschädigungam Lagerpad', 'Aufplattierung Lagerpad',\n",
       "       'Beschädigung Außenkontur', 'Beschädigung Innenkontur',\n",
       "       'Beschädigung Ölablauf', 'Beschädigung Dichtfläche',\n",
       "       'Beschädigung Querbohrung', 'Beschädigung Öltasche', 'Ölige Teile',\n",
       "       'Rückstände', 'Sonstiges 1', 'Sonstiges 2', 'Sonstiges 3',\n",
       "       'Sonstiges 4', 'Sonstiges 5', 'Summe\\nn.i.O.\\n[Stück]',\n",
       "       'Aus-schuss in %', 'Summe i.O. [Stück]', 'Mehr-menge', 'Fehl-menge:',\n",
       "       'Abgeschlossen durch:', 'Bemerkung:'],\n",
       "      dtype='object')"
      ]
     },
     "execution_count": 5,
     "metadata": {},
     "output_type": "execute_result"
    }
   ],
   "source": [
    "df['71231'].columns"
   ]
  },
  {
   "cell_type": "code",
   "execution_count": null,
   "metadata": {
    "collapsed": true
   },
   "outputs": [],
   "source": []
  }
 ],
 "metadata": {
  "kernelspec": {
   "display_name": "Python 3",
   "language": "python",
   "name": "python3"
  },
  "language_info": {
   "codemirror_mode": {
    "name": "ipython",
    "version": 3
   },
   "file_extension": ".py",
   "mimetype": "text/x-python",
   "name": "python",
   "nbconvert_exporter": "python",
   "pygments_lexer": "ipython3",
   "version": "3.6.0"
  }
 },
 "nbformat": 4,
 "nbformat_minor": 2
}
