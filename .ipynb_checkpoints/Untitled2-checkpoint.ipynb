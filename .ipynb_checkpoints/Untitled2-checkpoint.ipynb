{
 "cells": [
  {
   "cell_type": "code",
   "execution_count": 1,
   "metadata": {
    "collapsed": false
   },
   "outputs": [
    {
     "name": "stdout",
     "output_type": "stream",
     "text": [
      "['83002', '38816', '38945', '38947', '38966', '38983', '71231', '38908', '38002', '38000', '38812', '38823', '38875', '38896', '38893', '38906', '71229']\n",
      "dict_keys(['83002', '38816', '38945', '38947', '38966', '38983', '71231', '38908', '38002', '38000', '38812', '38823', '38875', '38896', '38893', '38906', '71229'])\n",
      "\n",
      "\n",
      "Und jetzt nur das 83002\n",
      "           LS / WE- Nummer: Prüfauftrags-nummer: Chargen-Nr.:  \\\n",
      "Datum:                                                          \n",
      "2015-09-14             8244                50283          NaN   \n",
      "2015-09-22             8358                50334          NaN   \n",
      "2015-09-24             9920                50921          NaN   \n",
      "2015-09-28             8316                50307          NaN   \n",
      "2016-02-18            14483                52984          NaN   \n",
      "\n",
      "           Gesamt-stückzahl: Beschädigungam Lagerpad Aufplattierung Lagerpad  \\\n",
      "Datum:                                                                         \n",
      "2015-09-14              5350                    1285                     NaN   \n",
      "2015-09-22             16050                    3498                     NaN   \n",
      "2015-09-24             10700                     960                     NaN   \n",
      "2015-09-28              6675                    2402                     NaN   \n",
      "2016-02-18              9217                    1929                     NaN   \n",
      "\n",
      "           Beschädigung Außenkontur Beschädigung Innenkontur  \\\n",
      "Datum:                                                         \n",
      "2015-09-14                      NaN                      NaN   \n",
      "2015-09-22                      NaN                      NaN   \n",
      "2015-09-24                      NaN                      238   \n",
      "2015-09-28                      NaN                      168   \n",
      "2016-02-18                      NaN                      114   \n",
      "\n",
      "           Beschädigung Ölablauf Beschädigung Dichtfläche    ...      \\\n",
      "Datum:                                                       ...       \n",
      "2015-09-14                   NaN                      NaN    ...       \n",
      "2015-09-22                   NaN                      214    ...       \n",
      "2015-09-24                   NaN                       64    ...       \n",
      "2015-09-28                   NaN                       27    ...       \n",
      "2016-02-18                   NaN                      105    ...       \n",
      "\n",
      "           Sonstiges 3 Sonstiges 4 Sonstiges 5 Summe\\nn.i.O.\\n[Stück]  \\\n",
      "Datum:                                                                  \n",
      "2015-09-14          56          36         NaN                   1971   \n",
      "2015-09-22         NaN         NaN         NaN                   5671   \n",
      "2015-09-24         NaN         NaN         NaN                   3137   \n",
      "2015-09-28         NaN         NaN         NaN                   3105   \n",
      "2016-02-18         NaN         NaN         NaN                   2392   \n",
      "\n",
      "           Aus-schuss in % Summe i.O. [Stück] Mehr-menge Fehl-menge:  \\\n",
      "Datum:                                                                 \n",
      "2015-09-14        0.369378               3365          0          14   \n",
      "2015-09-22        0.353576              10368        NaN          11   \n",
      "2015-09-24        0.299504               7337        NaN         226   \n",
      "2015-09-28        0.465169               3570        NaN         NaN   \n",
      "2016-02-18        0.258874               6848         23         NaN   \n",
      "\n",
      "           Abgeschlossen durch: Bemerkung:  \n",
      "Datum:                                      \n",
      "2015-09-14     Förster-Zöcklein        NaN  \n",
      "2015-09-22        Naam-Zöcklein        NaN  \n",
      "2015-09-24     Naam-Hengstebeck        NaN  \n",
      "2015-09-28   Walter-Hengstebeck        NaN  \n",
      "2016-02-18     Naam-Hengstebeck        NaN  \n",
      "\n",
      "[5 rows x 26 columns]\n",
      "           LS / WE- Nummer: Prüfauftrags-nummer: Chargen-Nr.:  \\\n",
      "Datum:                                                          \n",
      "2017-01-03            30935                57736          NaN   \n",
      "2017-01-03            30995                57760          NaN   \n",
      "2017-01-03            31153                57795          NaN   \n",
      "2017-01-04            31084                57781          NaN   \n",
      "2017-01-05            31291                57850          NaN   \n",
      "2017-01-09            31388                   24          NaN   \n",
      "\n",
      "           Gesamt-stückzahl: Beschädigungam Lagerpad Aufplattierung Lagerpad  \\\n",
      "Datum:                                                                         \n",
      "2017-01-03              3670                     370                      95   \n",
      "2017-01-03              4680                     214                      69   \n",
      "2017-01-03              3440                     403                     136   \n",
      "2017-01-04              3210                     153                      85   \n",
      "2017-01-05              4280                     227                      89   \n",
      "2017-01-09              1780                      70                      96   \n",
      "\n",
      "           Beschädigung Außenkontur Beschädigung Innenkontur  \\\n",
      "Datum:                                                         \n",
      "2017-01-03                        5                      204   \n",
      "2017-01-03                        6                       58   \n",
      "2017-01-03                      NaN                       82   \n",
      "2017-01-04                      NaN                       81   \n",
      "2017-01-05                      NaN                       58   \n",
      "2017-01-09                       11                       45   \n",
      "\n",
      "           Beschädigung Ölablauf Beschädigung Dichtfläche    ...      \\\n",
      "Datum:                                                       ...       \n",
      "2017-01-03                   NaN                       42    ...       \n",
      "2017-01-03                   NaN                       30    ...       \n",
      "2017-01-03                   NaN                       16    ...       \n",
      "2017-01-04                   NaN                       11    ...       \n",
      "2017-01-05                   NaN                       10    ...       \n",
      "2017-01-09                     7                      NaN    ...       \n",
      "\n",
      "           Sonstiges 3 Sonstiges 4 Sonstiges 5 Summe\\nn.i.O.\\n[Stück]  \\\n",
      "Datum:                                                                  \n",
      "2017-01-03         NaN         NaN         NaN                   1354   \n",
      "2017-01-03         NaN         NaN         NaN                   1096   \n",
      "2017-01-03         NaN         NaN         NaN                   1658   \n",
      "2017-01-04         NaN         NaN         NaN                   1186   \n",
      "2017-01-05         NaN         NaN         NaN                   1605   \n",
      "2017-01-09         NaN         NaN         NaN                    718   \n",
      "\n",
      "           Aus-schuss in % Summe i.O. [Stück] Mehr-menge Fehl-menge:  \\\n",
      "Datum:                                                                 \n",
      "2017-01-03        0.368937               2316        NaN         NaN   \n",
      "2017-01-03         0.23349               3598         14         NaN   \n",
      "2017-01-03        0.483241               1773        NaN           9   \n",
      "2017-01-04        0.370162               2018        NaN           6   \n",
      "2017-01-05        0.380332               2615        NaN          60   \n",
      "2017-01-09         0.41217               1024        NaN          38   \n",
      "\n",
      "            Abgeschlossen durch: Bemerkung:  \n",
      "Datum:                                       \n",
      "2017-01-03  Ullamann-Hengstebeck        NaN  \n",
      "2017-01-03  Ullamann-Hengstebeck        NaN  \n",
      "2017-01-03      Naam-Hengstebeck        NaN  \n",
      "2017-01-04      Naam-Hengstebeck        NaN  \n",
      "2017-01-05      Naam-Hengstebeck        NaN  \n",
      "2017-01-09      Naam-Hengstebeck        NaN  \n",
      "\n",
      "[6 rows x 26 columns]\n"
     ]
    }
   ],
   "source": [
    "import pandas as pd\n",
    "\n",
    "fsk = pd.ExcelFile(\"Fehlerkennkarte extern NEU.xls\")\n",
    "print(fsk.sheet_names)\n",
    "\n",
    "df = {sheet_name: fsk.parse(sheet_name) for sheet_name in fsk.sheet_names}\n",
    "\n",
    "print(df.keys())\n",
    "\n",
    "for sheets in df:\n",
    "    # print(df[sheets].head())\n",
    "    df[sheets] = df[sheets].dropna(subset=['Unnamed: 0'])\n",
    "    df[sheets].columns = df[sheets].iloc[0]\n",
    "    df[sheets] = df[sheets].drop(df[sheets].index[0])\n",
    "    df[sheets]['Datum:'] = pd.to_datetime(df[sheets]['Datum:'], format='%Y-%m-%d %H:%M:%S', errors='coerce')\n",
    "    df[sheets].set_index('Datum:', inplace=True)\n",
    "    df[sheets].columns.name = None\n",
    "\n",
    "print(\"\")\n",
    "print(\"\")\n",
    "print(\"Und jetzt nur das 83002\")\n",
    "print(df['83002'].head())\n",
    "# print(df['83002'][\"Datum:\"])\n",
    "# print(df['38816'][\"Datum:\"])\n",
    "print(df['38816'].loc[\"2017-01\"])"
   ]
  },
  {
   "cell_type": "code",
   "execution_count": 6,
   "metadata": {
    "collapsed": false
   },
   "outputs": [
    {
     "data": {
      "text/plain": [
       "Datum:\n",
       "2017-01-03    2316\n",
       "2017-01-03    3598\n",
       "2017-01-03    1773\n",
       "2017-01-04    2018\n",
       "2017-01-05    2615\n",
       "2017-01-09    1024\n",
       "Name: Summe i.O. [Stück], dtype: object"
      ]
     },
     "execution_count": 6,
     "metadata": {},
     "output_type": "execute_result"
    }
   ],
   "source": [
    "df['38816'][df['38816'].columns[21]].loc['2017-01']"
   ]
  },
  {
   "cell_type": "code",
   "execution_count": 4,
   "metadata": {
    "collapsed": false
   },
   "outputs": [
    {
     "data": {
      "text/plain": [
       "Index(['LS / WE- Nummer:', 'Prüfauftrags-nummer:', 'Chargen-Nr.:',\n",
       "       'Gesamt-stückzahl:', 'Beschädigungam Lagerpad',\n",
       "       'Aufplattierung Lagerpad', 'Beschädigung Außenkontur',\n",
       "       'Beschädigung Innenkontur', 'Beschädigung Ölablauf',\n",
       "       'Beschädigung Dichtfläche', 'Beschädigung Querbohrung',\n",
       "       'Beschädigung Öltasche', 'Ölige Teile', 'Rückstände', 'Sonstiges 1',\n",
       "       'Sonstiges 2', 'Sonstiges 3', 'Sonstiges 4', 'Sonstiges 5',\n",
       "       'Summe\\nn.i.O.\\n[Stück]', 'Aus-schuss in %', 'Summe i.O. [Stück]',\n",
       "       'Mehr-menge', 'Fehl-menge:', 'Abgeschlossen durch:', 'Bemerkung:'],\n",
       "      dtype='object')"
      ]
     },
     "execution_count": 4,
     "metadata": {},
     "output_type": "execute_result"
    }
   ],
   "source": [
    "df['38816'].columns"
   ]
  },
  {
   "cell_type": "code",
   "execution_count": 7,
   "metadata": {
    "collapsed": true
   },
   "outputs": [],
   "source": [
    "summe_io = df['38816'].columns[21]"
   ]
  },
  {
   "cell_type": "code",
   "execution_count": 8,
   "metadata": {
    "collapsed": false
   },
   "outputs": [
    {
     "data": {
      "text/plain": [
       "'Summe i.O. [Stück]'"
      ]
     },
     "execution_count": 8,
     "metadata": {},
     "output_type": "execute_result"
    }
   ],
   "source": [
    "summe_io"
   ]
  },
  {
   "cell_type": "code",
   "execution_count": 9,
   "metadata": {
    "collapsed": true
   },
   "outputs": [],
   "source": [
    "summe_nio = df['38816'].columns[19]"
   ]
  },
  {
   "cell_type": "code",
   "execution_count": 10,
   "metadata": {
    "collapsed": false
   },
   "outputs": [
    {
     "data": {
      "text/plain": [
       "'Summe\\nn.i.O.\\n[Stück]'"
      ]
     },
     "execution_count": 10,
     "metadata": {},
     "output_type": "execute_result"
    }
   ],
   "source": [
    "summe_nio"
   ]
  },
  {
   "cell_type": "code",
   "execution_count": 11,
   "metadata": {
    "collapsed": true
   },
   "outputs": [],
   "source": [
    "spalten = [summe_io, summe_nio]"
   ]
  },
  {
   "cell_type": "code",
   "execution_count": 14,
   "metadata": {
    "collapsed": false
   },
   "outputs": [
    {
     "data": {
      "text/html": [
       "<div>\n",
       "<table border=\"1\" class=\"dataframe\">\n",
       "  <thead>\n",
       "    <tr style=\"text-align: right;\">\n",
       "      <th></th>\n",
       "      <th>Summe i.O. [Stück]</th>\n",
       "      <th>Summe\n",
       "n.i.O.\n",
       "[Stück]</th>\n",
       "    </tr>\n",
       "    <tr>\n",
       "      <th>Datum:</th>\n",
       "      <th></th>\n",
       "      <th></th>\n",
       "    </tr>\n",
       "  </thead>\n",
       "  <tbody>\n",
       "    <tr>\n",
       "      <th>2017-01-03</th>\n",
       "      <td>2316</td>\n",
       "      <td>1354</td>\n",
       "    </tr>\n",
       "    <tr>\n",
       "      <th>2017-01-03</th>\n",
       "      <td>3598</td>\n",
       "      <td>1096</td>\n",
       "    </tr>\n",
       "    <tr>\n",
       "      <th>2017-01-03</th>\n",
       "      <td>1773</td>\n",
       "      <td>1658</td>\n",
       "    </tr>\n",
       "    <tr>\n",
       "      <th>2017-01-04</th>\n",
       "      <td>2018</td>\n",
       "      <td>1186</td>\n",
       "    </tr>\n",
       "    <tr>\n",
       "      <th>2017-01-05</th>\n",
       "      <td>2615</td>\n",
       "      <td>1605</td>\n",
       "    </tr>\n",
       "    <tr>\n",
       "      <th>2017-01-09</th>\n",
       "      <td>1024</td>\n",
       "      <td>718</td>\n",
       "    </tr>\n",
       "  </tbody>\n",
       "</table>\n",
       "</div>"
      ],
      "text/plain": [
       "           Summe i.O. [Stück] Summe\\nn.i.O.\\n[Stück]\n",
       "Datum:                                              \n",
       "2017-01-03               2316                   1354\n",
       "2017-01-03               3598                   1096\n",
       "2017-01-03               1773                   1658\n",
       "2017-01-04               2018                   1186\n",
       "2017-01-05               2615                   1605\n",
       "2017-01-09               1024                    718"
      ]
     },
     "execution_count": 14,
     "metadata": {},
     "output_type": "execute_result"
    }
   ],
   "source": [
    "df['38816'][spalten].loc['2017-01']"
   ]
  },
  {
   "cell_type": "code",
   "execution_count": 15,
   "metadata": {
    "collapsed": true
   },
   "outputs": [],
   "source": [
    "import matplotlib.pyplot as plt"
   ]
  },
  {
   "cell_type": "code",
   "execution_count": 16,
   "metadata": {
    "collapsed": true
   },
   "outputs": [],
   "source": [
    "plt.figure();"
   ]
  },
  {
   "cell_type": "code",
   "execution_count": 17,
   "metadata": {
    "collapsed": true
   },
   "outputs": [],
   "source": [
    "fig=df['38816'][spalten].loc['2017-01'].plot(kind='bar').get_figure()"
   ]
  },
  {
   "cell_type": "code",
   "execution_count": 18,
   "metadata": {
    "collapsed": true
   },
   "outputs": [],
   "source": [
    "fig.savefig(\"test2.pdf\")"
   ]
  },
  {
   "cell_type": "code",
   "execution_count": null,
   "metadata": {
    "collapsed": true
   },
   "outputs": [],
   "source": []
  }
 ],
 "metadata": {
  "kernelspec": {
   "display_name": "Python 3",
   "language": "python",
   "name": "python3"
  },
  "language_info": {
   "codemirror_mode": {
    "name": "ipython",
    "version": 3
   },
   "file_extension": ".py",
   "mimetype": "text/x-python",
   "name": "python",
   "nbconvert_exporter": "python",
   "pygments_lexer": "ipython3",
   "version": "3.6.0"
  }
 },
 "nbformat": 4,
 "nbformat_minor": 2
}
